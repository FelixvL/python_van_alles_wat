{
 "cells": [
  {
   "cell_type": "code",
   "execution_count": 3,
   "id": "c7f2710a",
   "metadata": {},
   "outputs": [
    {
     "name": "stdout",
     "output_type": "stream",
     "text": [
      "\n",
      "      <yt-formatted-string force-default-style=\"\" class=\"style-scope ytd-watch-metadata\"><!--css-build:shady--></yt-formatted-string>\n",
      "    \n",
      "==================================\n"
     ]
    }
   ],
   "source": [
    "import requests\n",
    "from bs4 import BeautifulSoup\n",
    "from selenium.webdriver.common.by import By\n",
    "from selenium import webdriver\n",
    "from selenium.webdriver.common.keys import Keys\n",
    "\n",
    "URL = 'http://youtube.com'\n",
    "page = requests.get(URL)\n",
    "\n",
    "soup = BeautifulSoup(page.content, 'html.parser')\n",
    "website = soup.prettify()\n",
    "\n",
    "driver = webdriver.Firefox()\n",
    "driver.get(\"http://www.youtube.com\")\n",
    "\n",
    "#elem = driver.find_element_by_name(\"q\")\n",
    "heading1 = driver.find_element_by_tag_name('h1')\n",
    "\n",
    "print(heading1.get_attribute(\"innerHTML\"))\n",
    "\n",
    "print(\"==================================\")"
   ]
  },
  {
   "cell_type": "code",
   "execution_count": 2,
   "id": "0ab821b8",
   "metadata": {},
   "outputs": [
    {
     "name": "stdout",
     "output_type": "stream",
     "text": [
      "247TailorSteel\n",
      "2Connect\n",
      "3D Systems\n",
      "3M Nederland BV - Tapes & Lijmen\n",
      "4C Creative Cad Cam Consultants\n",
      "4Moulding - Mouldshop.nl\n",
      "ABB b.v.\n",
      "Acal BFi Netherlands\n",
      "ACE ingenieurs- & adviesbureau\n",
      "Adruu B.V.\n",
      "247TailorSteel\n",
      "onbekende plaats\n",
      "2Connect\n",
      "onbekende plaats\n",
      "3D Systems\n",
      "onbekende plaats\n",
      "3M Nederland BV - Tapes & Lijmen\n",
      "onbekende plaats\n",
      "4C Creative Cad Cam Consultants\n",
      "onbekende plaats\n",
      "4Moulding - Mouldshop.nl\n",
      "onbekende plaats\n",
      "ABB b.v.\n",
      "onbekende plaats\n",
      "Acal BFi Netherlands\n",
      "onbekende plaats\n",
      "ACE ingenieurs- & adviesbureau\n",
      "onbekende plaats\n",
      "Adruu B.V.\n",
      "onbekende plaats\n"
     ]
    }
   ],
   "source": [
    "URL = \"https://mikrocentrum.nl/nl/high-tech-platform/leden/\"\n",
    "page = requests.get(URL)\n",
    "soup = BeautifulSoup(page.content, 'html.parser')\n",
    "tabel = soup.find_all(class_=\"mb-3\")\n",
    "#rijen = soup.find_all('h3')\n",
    "\n",
    "class Lid():\n",
    "    bedrijfsnaam = 'onbekend'\n",
    "    plaats = 'onbekende plaats'\n",
    "\n",
    "leden = []\n",
    "\n",
    "#print(tabel)\n",
    "\n",
    "for elems in range (20):\n",
    "    lid = Lid()\n",
    "  #  titel = rijen[elems].find_all('p')\n",
    "#    lid.bedrijfsnaam = tabel[elems].find_all(class_=\"font-weight-semibold\")\n",
    "    h = tabel[elems].find(class_=\"font-weight-semibold oi-content\")\n",
    "    if elems % 2 == 0:\n",
    "        print(h.text)\n",
    "        lid.bedrijfsnaam = h.text\n",
    " #   plaats = soup[elems].find_all (class_=\"item7-card-desc d-flex mt-1\")\n",
    " #   lid.plaats = plaats[1].text\n",
    " #\n",
    "        leden.append(lid)\n",
    "\n",
    "#print(leden)\n",
    "for l in leden:\n",
    "    print (l.bedrijfsnaam)\n",
    "    print (l.plaats)\n",
    "\n",
    "    \n",
    "    "
   ]
  }
 ],
 "metadata": {
  "kernelspec": {
   "display_name": "Python 3",
   "language": "python",
   "name": "python3"
  },
  "language_info": {
   "codemirror_mode": {
    "name": "ipython",
    "version": 3
   },
   "file_extension": ".py",
   "mimetype": "text/x-python",
   "name": "python",
   "nbconvert_exporter": "python",
   "pygments_lexer": "ipython3",
   "version": "3.9.6"
  }
 },
 "nbformat": 4,
 "nbformat_minor": 5
}
