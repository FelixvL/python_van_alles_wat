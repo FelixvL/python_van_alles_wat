{
 "cells": [
  {
   "cell_type": "code",
   "execution_count": 2,
   "id": "409b0dc9-7b48-4669-b0a4-4d07d1e0a612",
   "metadata": {
    "scrolled": true
   },
   "outputs": [
    {
     "name": "stdout",
     "output_type": "stream",
     "text": [
      "hoi\n",
      "hi\n",
      "it is running\n",
      "4\n",
      "6\n",
      "it is running\n",
      "-1\n",
      "5\n",
      "it is running\n",
      "<script>\n",
      "var vorigeletter = 'O';\n",
      "function go(letter){\n",
      "\tconsole.log(vorigeletter);\n",
      "\tconsole.log(letter);\n",
      "\tvorigeletter = letter;\n",
      "\tconsole.log(\"einde functie\");\n",
      "}\n",
      "\n",
      "</script>\n",
      "\n",
      "\n",
      "<input type=button onclick=\"go('A')\">\n",
      "<input type=button onclick=\"go('B')\">\n",
      "\n",
      "\n"
     ]
    }
   ],
   "source": [
    "print('hoi')\n",
    "print('hi')\n",
    "c=4\n",
    "\n",
    "class B:\n",
    "    def running(self):\n",
    "        print(\"it is running\")\n",
    "\n",
    "r = B()\n",
    "r.running()\n",
    "\n",
    "a = 6\n",
    "s = B()\n",
    "print(c)\n",
    "\n",
    "print(a)\n",
    "\n",
    "a -= 7\n",
    "g = B()\n",
    "g.running()\n",
    "\n",
    "print(a)\n",
    "a = 5\n",
    "print(a)\n",
    "\n",
    "s.running()\n",
    "\n",
    "\n",
    "\n",
    "f = open(\"start.txt\", \"r\")\n",
    "print(f.read())\n"
   ]
  },
  {
   "cell_type": "code",
   "execution_count": null,
   "id": "5842d0a2",
   "metadata": {},
   "outputs": [],
   "source": []
  }
 ],
 "metadata": {
  "kernelspec": {
   "display_name": "Python 3",
   "language": "python",
   "name": "python3"
  },
  "language_info": {
   "codemirror_mode": {
    "name": "ipython",
    "version": 3
   },
   "file_extension": ".py",
   "mimetype": "text/x-python",
   "name": "python",
   "nbconvert_exporter": "python",
   "pygments_lexer": "ipython3",
   "version": "3.9.6"
  }
 },
 "nbformat": 4,
 "nbformat_minor": 5
}
