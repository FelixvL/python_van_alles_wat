{
 "cells": [
  {
   "cell_type": "code",
   "execution_count": 1,
   "id": "d812636f",
   "metadata": {},
   "outputs": [
    {
     "name": "stdout",
     "output_type": "stream",
     "text": [
      "John Smith New York 123\n"
     ]
    }
   ],
   "source": [
    "import json\n",
    "from types import SimpleNamespace\n",
    "\n",
    "data = '{\"name\": \"John Smith\", \"hometown\": {\"name\": \"New York\", \"id\": 123}}'\n",
    "\n",
    "# Parse JSON into an object with attributes corresponding to dict keys.\n",
    "x = json.loads(data, object_hook=lambda d: SimpleNamespace(**d))\n",
    "print(x.name, x.hometown.name, x.hometown.id)"
   ]
  },
  {
   "cell_type": "code",
   "execution_count": 2,
   "id": "baf351da",
   "metadata": {},
   "outputs": [],
   "source": [
    "mijna = [\"hoi\",\"daar\"]\n",
    "f = open(\"demofile2.txt\", \"a\")  # w mag ook\n",
    "stukstring = \" \"\n",
    "\n",
    "f.write(\"Now the file has more content!\")\n",
    "f.close()"
   ]
  },
  {
   "cell_type": "code",
   "execution_count": 3,
   "id": "652832fd",
   "metadata": {},
   "outputs": [
    {
     "name": "stdout",
     "output_type": "stream",
     "text": [
      "X(name='John Smith', hometown=X(name='New York', id=123))\n",
      "John Smith\n"
     ]
    }
   ],
   "source": [
    "import json\n",
    "from collections import namedtuple\n",
    "\n",
    "data = '{\"name\": \"John Smith\", \"hometown\": {\"name\": \"New York\", \"id\": 123}}'\n",
    "\n",
    "# Parse JSON into an object with attributes corresponding to dict keys.\n",
    "x = json.loads(data, object_hook=lambda d: namedtuple('X', d.keys())(*d.values()))\n",
    "print(x)\n",
    "print(x.name)"
   ]
  },
  {
   "cell_type": "code",
   "execution_count": 4,
   "id": "26704055",
   "metadata": {},
   "outputs": [
    {
     "name": "stdout",
     "output_type": "stream",
     "text": [
      "25,test\n"
     ]
    },
    {
     "data": {
      "text/plain": [
       "'25,test;25,test;25,test'"
      ]
     },
     "execution_count": 4,
     "metadata": {},
     "output_type": "execute_result"
    }
   ],
   "source": [
    "class Drank:\n",
    "    prijs = 25\n",
    "    naam = \"test\"\n",
    "    def drnaarcsv(self):\n",
    "        return str(self.prijs)+\",\"+self.naam\n",
    "\n",
    "d1 = Drank()    \n",
    "print(d1.drnaarcsv())    \n",
    "mijna = [Drank(),Drank(),Drank()]\n",
    "mijnb = []\n",
    "for dr in mijna:\n",
    "    mijnb.append(dr.drnaarcsv())\n",
    "\n",
    "f = open(\"demofile2.txt\", \"w\")\n",
    "stukstring = \";\"\n",
    "#stukstring = stukstring.join(mijna) # werkt niet\n",
    "stukstring = stukstring.join(mijnb)\n",
    "\n",
    "f.write(stukstring)\n",
    "f.close()\n",
    "stukstring"
   ]
  }
 ],
 "metadata": {
  "kernelspec": {
   "display_name": "Python 3",
   "language": "python",
   "name": "python3"
  },
  "language_info": {
   "codemirror_mode": {
    "name": "ipython",
    "version": 3
   },
   "file_extension": ".py",
   "mimetype": "text/x-python",
   "name": "python",
   "nbconvert_exporter": "python",
   "pygments_lexer": "ipython3",
   "version": "3.9.6"
  }
 },
 "nbformat": 4,
 "nbformat_minor": 5
}
