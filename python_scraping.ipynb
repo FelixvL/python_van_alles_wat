{
 "cells": [
  {
   "cell_type": "code",
   "execution_count": 13,
   "id": "84e8366a",
   "metadata": {},
   "outputs": [
    {
     "name": "stdout",
     "output_type": "stream",
     "text": [
      "Bitcoin\n",
      "$43,735.40\n",
      "Ethereum\n",
      "$3,048.08\n",
      "Tether\n",
      "$1\n",
      "Cardano\n",
      "$2.08\n",
      "Binance Coin\n",
      "$366.41\n",
      "XRP\n",
      "$0.918\n",
      "Solana\n",
      "$138.23\n",
      "USD Coin\n",
      "$1.00\n",
      "Polkadot\n",
      "$28.53\n",
      "Dogecoin\n",
      "$0.2106\n"
     ]
    }
   ],
   "source": [
    "import requests\n",
    "from bs4 import BeautifulSoup\n",
    "\n",
    "URL = 'https://coinmarketcap.com/'\n",
    "page = requests.get(URL)\n",
    "\n",
    "soup = BeautifulSoup(page.content, 'html.parser')\n",
    "tabel = soup.find('tbody')\n",
    "rijen = tabel.find_all('tr')\n",
    "\n",
    "class Belegging:\n",
    "    naam = 'onbekend'\n",
    "    prijs = -1\n",
    "\n",
    "beleggingen = []\n",
    "\n",
    "for elems in range(10):\n",
    "    belegging = Belegging()\n",
    "    titel = rijen[elems].find_all('p')\t\n",
    "    belegging.naam = titel[1].text\n",
    "    prijs = rijen[elems].find_all('a')\n",
    "    belegging.prijs = prijs[1].text\n",
    "    beleggingen.append(belegging)\n",
    "\n",
    "#print(beleggingen)\n",
    "\n",
    "for b in beleggingen:\n",
    "    print(b.naam)\n",
    "    print(b.prijs)"
   ]
  },
  {
   "cell_type": "code",
   "execution_count": null,
   "id": "b956a4ab",
   "metadata": {},
   "outputs": [],
   "source": []
  }
 ],
 "metadata": {
  "kernelspec": {
   "display_name": "Python 3",
   "language": "python",
   "name": "python3"
  },
  "language_info": {
   "codemirror_mode": {
    "name": "ipython",
    "version": 3
   },
   "file_extension": ".py",
   "mimetype": "text/x-python",
   "name": "python",
   "nbconvert_exporter": "python",
   "pygments_lexer": "ipython3",
   "version": "3.9.6"
  }
 },
 "nbformat": 4,
 "nbformat_minor": 5
}
